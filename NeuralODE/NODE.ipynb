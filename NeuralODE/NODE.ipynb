{
  "nbformat": 4,
  "nbformat_minor": 0,
  "metadata": {
    "colab": {
      "name": "NODE.ipynb",
      "provenance": []
    },
    "kernelspec": {
      "name": "python3",
      "display_name": "Python 3"
    },
    "widgets": {
      "application/vnd.jupyter.widget-state+json": {
        "c38eea6872864143a62ae66a919a1460": {
          "model_module": "@jupyter-widgets/controls",
          "model_name": "HBoxModel",
          "state": {
            "_view_name": "HBoxView",
            "_dom_classes": [],
            "_model_name": "HBoxModel",
            "_view_module": "@jupyter-widgets/controls",
            "_model_module_version": "1.5.0",
            "_view_count": null,
            "_view_module_version": "1.5.0",
            "box_style": "",
            "layout": "IPY_MODEL_5a443473a7ce492db22a25905be59ace",
            "_model_module": "@jupyter-widgets/controls",
            "children": [
              "IPY_MODEL_aa49b61891fb4a2aa40521a40f7fd0b0",
              "IPY_MODEL_5afacd6dab8f48dda497b84827aee577"
            ]
          }
        },
        "5a443473a7ce492db22a25905be59ace": {
          "model_module": "@jupyter-widgets/base",
          "model_name": "LayoutModel",
          "state": {
            "_view_name": "LayoutView",
            "grid_template_rows": null,
            "right": null,
            "justify_content": null,
            "_view_module": "@jupyter-widgets/base",
            "overflow": null,
            "_model_module_version": "1.2.0",
            "_view_count": null,
            "flex_flow": null,
            "width": null,
            "min_width": null,
            "border": null,
            "align_items": null,
            "bottom": null,
            "_model_module": "@jupyter-widgets/base",
            "top": null,
            "grid_column": null,
            "overflow_y": null,
            "overflow_x": null,
            "grid_auto_flow": null,
            "grid_area": null,
            "grid_template_columns": null,
            "flex": null,
            "_model_name": "LayoutModel",
            "justify_items": null,
            "grid_row": null,
            "max_height": null,
            "align_content": null,
            "visibility": null,
            "align_self": null,
            "height": null,
            "min_height": null,
            "padding": null,
            "grid_auto_rows": null,
            "grid_gap": null,
            "max_width": null,
            "order": null,
            "_view_module_version": "1.2.0",
            "grid_template_areas": null,
            "object_position": null,
            "object_fit": null,
            "grid_auto_columns": null,
            "margin": null,
            "display": null,
            "left": null
          }
        },
        "aa49b61891fb4a2aa40521a40f7fd0b0": {
          "model_module": "@jupyter-widgets/controls",
          "model_name": "FloatProgressModel",
          "state": {
            "_view_name": "ProgressView",
            "style": "IPY_MODEL_8784250d6a78404dacf149e347222624",
            "_dom_classes": [],
            "description": "",
            "_model_name": "FloatProgressModel",
            "bar_style": "success",
            "max": 1,
            "_view_module": "@jupyter-widgets/controls",
            "_model_module_version": "1.5.0",
            "value": 1,
            "_view_count": null,
            "_view_module_version": "1.5.0",
            "orientation": "horizontal",
            "min": 0,
            "description_tooltip": null,
            "_model_module": "@jupyter-widgets/controls",
            "layout": "IPY_MODEL_7e46d6a7f3d3436abc15c158d92e6e61"
          }
        },
        "5afacd6dab8f48dda497b84827aee577": {
          "model_module": "@jupyter-widgets/controls",
          "model_name": "HTMLModel",
          "state": {
            "_view_name": "HTMLView",
            "style": "IPY_MODEL_7d003eb3d0eb4712b6a901aa505124b5",
            "_dom_classes": [],
            "description": "",
            "_model_name": "HTMLModel",
            "placeholder": "​",
            "_view_module": "@jupyter-widgets/controls",
            "_model_module_version": "1.5.0",
            "value": " 9920512/? [00:01&lt;00:00, 8336150.10it/s]",
            "_view_count": null,
            "_view_module_version": "1.5.0",
            "description_tooltip": null,
            "_model_module": "@jupyter-widgets/controls",
            "layout": "IPY_MODEL_e7b54baf288649568c1b59c4ce4eae2f"
          }
        },
        "8784250d6a78404dacf149e347222624": {
          "model_module": "@jupyter-widgets/controls",
          "model_name": "ProgressStyleModel",
          "state": {
            "_view_name": "StyleView",
            "_model_name": "ProgressStyleModel",
            "description_width": "initial",
            "_view_module": "@jupyter-widgets/base",
            "_model_module_version": "1.5.0",
            "_view_count": null,
            "_view_module_version": "1.2.0",
            "bar_color": null,
            "_model_module": "@jupyter-widgets/controls"
          }
        },
        "7e46d6a7f3d3436abc15c158d92e6e61": {
          "model_module": "@jupyter-widgets/base",
          "model_name": "LayoutModel",
          "state": {
            "_view_name": "LayoutView",
            "grid_template_rows": null,
            "right": null,
            "justify_content": null,
            "_view_module": "@jupyter-widgets/base",
            "overflow": null,
            "_model_module_version": "1.2.0",
            "_view_count": null,
            "flex_flow": null,
            "width": null,
            "min_width": null,
            "border": null,
            "align_items": null,
            "bottom": null,
            "_model_module": "@jupyter-widgets/base",
            "top": null,
            "grid_column": null,
            "overflow_y": null,
            "overflow_x": null,
            "grid_auto_flow": null,
            "grid_area": null,
            "grid_template_columns": null,
            "flex": null,
            "_model_name": "LayoutModel",
            "justify_items": null,
            "grid_row": null,
            "max_height": null,
            "align_content": null,
            "visibility": null,
            "align_self": null,
            "height": null,
            "min_height": null,
            "padding": null,
            "grid_auto_rows": null,
            "grid_gap": null,
            "max_width": null,
            "order": null,
            "_view_module_version": "1.2.0",
            "grid_template_areas": null,
            "object_position": null,
            "object_fit": null,
            "grid_auto_columns": null,
            "margin": null,
            "display": null,
            "left": null
          }
        },
        "7d003eb3d0eb4712b6a901aa505124b5": {
          "model_module": "@jupyter-widgets/controls",
          "model_name": "DescriptionStyleModel",
          "state": {
            "_view_name": "StyleView",
            "_model_name": "DescriptionStyleModel",
            "description_width": "",
            "_view_module": "@jupyter-widgets/base",
            "_model_module_version": "1.5.0",
            "_view_count": null,
            "_view_module_version": "1.2.0",
            "_model_module": "@jupyter-widgets/controls"
          }
        },
        "e7b54baf288649568c1b59c4ce4eae2f": {
          "model_module": "@jupyter-widgets/base",
          "model_name": "LayoutModel",
          "state": {
            "_view_name": "LayoutView",
            "grid_template_rows": null,
            "right": null,
            "justify_content": null,
            "_view_module": "@jupyter-widgets/base",
            "overflow": null,
            "_model_module_version": "1.2.0",
            "_view_count": null,
            "flex_flow": null,
            "width": null,
            "min_width": null,
            "border": null,
            "align_items": null,
            "bottom": null,
            "_model_module": "@jupyter-widgets/base",
            "top": null,
            "grid_column": null,
            "overflow_y": null,
            "overflow_x": null,
            "grid_auto_flow": null,
            "grid_area": null,
            "grid_template_columns": null,
            "flex": null,
            "_model_name": "LayoutModel",
            "justify_items": null,
            "grid_row": null,
            "max_height": null,
            "align_content": null,
            "visibility": null,
            "align_self": null,
            "height": null,
            "min_height": null,
            "padding": null,
            "grid_auto_rows": null,
            "grid_gap": null,
            "max_width": null,
            "order": null,
            "_view_module_version": "1.2.0",
            "grid_template_areas": null,
            "object_position": null,
            "object_fit": null,
            "grid_auto_columns": null,
            "margin": null,
            "display": null,
            "left": null
          }
        },
        "711130ec55324f9086654d006922edcb": {
          "model_module": "@jupyter-widgets/controls",
          "model_name": "HBoxModel",
          "state": {
            "_view_name": "HBoxView",
            "_dom_classes": [],
            "_model_name": "HBoxModel",
            "_view_module": "@jupyter-widgets/controls",
            "_model_module_version": "1.5.0",
            "_view_count": null,
            "_view_module_version": "1.5.0",
            "box_style": "",
            "layout": "IPY_MODEL_f2f4761d4f2d4ae5ab7880811d3b1de8",
            "_model_module": "@jupyter-widgets/controls",
            "children": [
              "IPY_MODEL_4ab49f9310b549b2998dcb7cfe2d685f",
              "IPY_MODEL_a19cfd6d883244248594f2d0a4cbfde4"
            ]
          }
        },
        "f2f4761d4f2d4ae5ab7880811d3b1de8": {
          "model_module": "@jupyter-widgets/base",
          "model_name": "LayoutModel",
          "state": {
            "_view_name": "LayoutView",
            "grid_template_rows": null,
            "right": null,
            "justify_content": null,
            "_view_module": "@jupyter-widgets/base",
            "overflow": null,
            "_model_module_version": "1.2.0",
            "_view_count": null,
            "flex_flow": null,
            "width": null,
            "min_width": null,
            "border": null,
            "align_items": null,
            "bottom": null,
            "_model_module": "@jupyter-widgets/base",
            "top": null,
            "grid_column": null,
            "overflow_y": null,
            "overflow_x": null,
            "grid_auto_flow": null,
            "grid_area": null,
            "grid_template_columns": null,
            "flex": null,
            "_model_name": "LayoutModel",
            "justify_items": null,
            "grid_row": null,
            "max_height": null,
            "align_content": null,
            "visibility": null,
            "align_self": null,
            "height": null,
            "min_height": null,
            "padding": null,
            "grid_auto_rows": null,
            "grid_gap": null,
            "max_width": null,
            "order": null,
            "_view_module_version": "1.2.0",
            "grid_template_areas": null,
            "object_position": null,
            "object_fit": null,
            "grid_auto_columns": null,
            "margin": null,
            "display": null,
            "left": null
          }
        },
        "4ab49f9310b549b2998dcb7cfe2d685f": {
          "model_module": "@jupyter-widgets/controls",
          "model_name": "FloatProgressModel",
          "state": {
            "_view_name": "ProgressView",
            "style": "IPY_MODEL_21b039b7f66549609de3a32397d5612d",
            "_dom_classes": [],
            "description": "  0%",
            "_model_name": "FloatProgressModel",
            "bar_style": "info",
            "max": 1,
            "_view_module": "@jupyter-widgets/controls",
            "_model_module_version": "1.5.0",
            "value": 0,
            "_view_count": null,
            "_view_module_version": "1.5.0",
            "orientation": "horizontal",
            "min": 0,
            "description_tooltip": null,
            "_model_module": "@jupyter-widgets/controls",
            "layout": "IPY_MODEL_275340d2a2ff41c29172e620c47d57b6"
          }
        },
        "a19cfd6d883244248594f2d0a4cbfde4": {
          "model_module": "@jupyter-widgets/controls",
          "model_name": "HTMLModel",
          "state": {
            "_view_name": "HTMLView",
            "style": "IPY_MODEL_8a973c32fcb94d83ae02e372b015b5d0",
            "_dom_classes": [],
            "description": "",
            "_model_name": "HTMLModel",
            "placeholder": "​",
            "_view_module": "@jupyter-widgets/controls",
            "_model_module_version": "1.5.0",
            "value": " 0/28881 [00:00&lt;?, ?it/s]",
            "_view_count": null,
            "_view_module_version": "1.5.0",
            "description_tooltip": null,
            "_model_module": "@jupyter-widgets/controls",
            "layout": "IPY_MODEL_7ddfe958bfeb4e25af4dc0c5b6f1e21a"
          }
        },
        "21b039b7f66549609de3a32397d5612d": {
          "model_module": "@jupyter-widgets/controls",
          "model_name": "ProgressStyleModel",
          "state": {
            "_view_name": "StyleView",
            "_model_name": "ProgressStyleModel",
            "description_width": "initial",
            "_view_module": "@jupyter-widgets/base",
            "_model_module_version": "1.5.0",
            "_view_count": null,
            "_view_module_version": "1.2.0",
            "bar_color": null,
            "_model_module": "@jupyter-widgets/controls"
          }
        },
        "275340d2a2ff41c29172e620c47d57b6": {
          "model_module": "@jupyter-widgets/base",
          "model_name": "LayoutModel",
          "state": {
            "_view_name": "LayoutView",
            "grid_template_rows": null,
            "right": null,
            "justify_content": null,
            "_view_module": "@jupyter-widgets/base",
            "overflow": null,
            "_model_module_version": "1.2.0",
            "_view_count": null,
            "flex_flow": null,
            "width": null,
            "min_width": null,
            "border": null,
            "align_items": null,
            "bottom": null,
            "_model_module": "@jupyter-widgets/base",
            "top": null,
            "grid_column": null,
            "overflow_y": null,
            "overflow_x": null,
            "grid_auto_flow": null,
            "grid_area": null,
            "grid_template_columns": null,
            "flex": null,
            "_model_name": "LayoutModel",
            "justify_items": null,
            "grid_row": null,
            "max_height": null,
            "align_content": null,
            "visibility": null,
            "align_self": null,
            "height": null,
            "min_height": null,
            "padding": null,
            "grid_auto_rows": null,
            "grid_gap": null,
            "max_width": null,
            "order": null,
            "_view_module_version": "1.2.0",
            "grid_template_areas": null,
            "object_position": null,
            "object_fit": null,
            "grid_auto_columns": null,
            "margin": null,
            "display": null,
            "left": null
          }
        },
        "8a973c32fcb94d83ae02e372b015b5d0": {
          "model_module": "@jupyter-widgets/controls",
          "model_name": "DescriptionStyleModel",
          "state": {
            "_view_name": "StyleView",
            "_model_name": "DescriptionStyleModel",
            "description_width": "",
            "_view_module": "@jupyter-widgets/base",
            "_model_module_version": "1.5.0",
            "_view_count": null,
            "_view_module_version": "1.2.0",
            "_model_module": "@jupyter-widgets/controls"
          }
        },
        "7ddfe958bfeb4e25af4dc0c5b6f1e21a": {
          "model_module": "@jupyter-widgets/base",
          "model_name": "LayoutModel",
          "state": {
            "_view_name": "LayoutView",
            "grid_template_rows": null,
            "right": null,
            "justify_content": null,
            "_view_module": "@jupyter-widgets/base",
            "overflow": null,
            "_model_module_version": "1.2.0",
            "_view_count": null,
            "flex_flow": null,
            "width": null,
            "min_width": null,
            "border": null,
            "align_items": null,
            "bottom": null,
            "_model_module": "@jupyter-widgets/base",
            "top": null,
            "grid_column": null,
            "overflow_y": null,
            "overflow_x": null,
            "grid_auto_flow": null,
            "grid_area": null,
            "grid_template_columns": null,
            "flex": null,
            "_model_name": "LayoutModel",
            "justify_items": null,
            "grid_row": null,
            "max_height": null,
            "align_content": null,
            "visibility": null,
            "align_self": null,
            "height": null,
            "min_height": null,
            "padding": null,
            "grid_auto_rows": null,
            "grid_gap": null,
            "max_width": null,
            "order": null,
            "_view_module_version": "1.2.0",
            "grid_template_areas": null,
            "object_position": null,
            "object_fit": null,
            "grid_auto_columns": null,
            "margin": null,
            "display": null,
            "left": null
          }
        },
        "b89a15b081664a1db88f23b71654ebd3": {
          "model_module": "@jupyter-widgets/controls",
          "model_name": "HBoxModel",
          "state": {
            "_view_name": "HBoxView",
            "_dom_classes": [],
            "_model_name": "HBoxModel",
            "_view_module": "@jupyter-widgets/controls",
            "_model_module_version": "1.5.0",
            "_view_count": null,
            "_view_module_version": "1.5.0",
            "box_style": "",
            "layout": "IPY_MODEL_c91aa6e97a9440859829a38c39e95d74",
            "_model_module": "@jupyter-widgets/controls",
            "children": [
              "IPY_MODEL_716f5afc2a8a411b9d2726d8540153e7",
              "IPY_MODEL_b7eb156e99ad44b1a71a5c5c7348c73f"
            ]
          }
        },
        "c91aa6e97a9440859829a38c39e95d74": {
          "model_module": "@jupyter-widgets/base",
          "model_name": "LayoutModel",
          "state": {
            "_view_name": "LayoutView",
            "grid_template_rows": null,
            "right": null,
            "justify_content": null,
            "_view_module": "@jupyter-widgets/base",
            "overflow": null,
            "_model_module_version": "1.2.0",
            "_view_count": null,
            "flex_flow": null,
            "width": null,
            "min_width": null,
            "border": null,
            "align_items": null,
            "bottom": null,
            "_model_module": "@jupyter-widgets/base",
            "top": null,
            "grid_column": null,
            "overflow_y": null,
            "overflow_x": null,
            "grid_auto_flow": null,
            "grid_area": null,
            "grid_template_columns": null,
            "flex": null,
            "_model_name": "LayoutModel",
            "justify_items": null,
            "grid_row": null,
            "max_height": null,
            "align_content": null,
            "visibility": null,
            "align_self": null,
            "height": null,
            "min_height": null,
            "padding": null,
            "grid_auto_rows": null,
            "grid_gap": null,
            "max_width": null,
            "order": null,
            "_view_module_version": "1.2.0",
            "grid_template_areas": null,
            "object_position": null,
            "object_fit": null,
            "grid_auto_columns": null,
            "margin": null,
            "display": null,
            "left": null
          }
        },
        "716f5afc2a8a411b9d2726d8540153e7": {
          "model_module": "@jupyter-widgets/controls",
          "model_name": "FloatProgressModel",
          "state": {
            "_view_name": "ProgressView",
            "style": "IPY_MODEL_24e60b8ed35e4c8b8c2998e7f73cb748",
            "_dom_classes": [],
            "description": "",
            "_model_name": "FloatProgressModel",
            "bar_style": "info",
            "max": 1,
            "_view_module": "@jupyter-widgets/controls",
            "_model_module_version": "1.5.0",
            "value": 1,
            "_view_count": null,
            "_view_module_version": "1.5.0",
            "orientation": "horizontal",
            "min": 0,
            "description_tooltip": null,
            "_model_module": "@jupyter-widgets/controls",
            "layout": "IPY_MODEL_2b7a9dcfbfe2424c861e8a23de755246"
          }
        },
        "b7eb156e99ad44b1a71a5c5c7348c73f": {
          "model_module": "@jupyter-widgets/controls",
          "model_name": "HTMLModel",
          "state": {
            "_view_name": "HTMLView",
            "style": "IPY_MODEL_c2eeaadeeb514db293be4deb3aca7d01",
            "_dom_classes": [],
            "description": "",
            "_model_name": "HTMLModel",
            "placeholder": "​",
            "_view_module": "@jupyter-widgets/controls",
            "_model_module_version": "1.5.0",
            "value": " 1654784/? [00:19&lt;00:00, 274539.48it/s]",
            "_view_count": null,
            "_view_module_version": "1.5.0",
            "description_tooltip": null,
            "_model_module": "@jupyter-widgets/controls",
            "layout": "IPY_MODEL_05af568b7f3c4f05be22c3a611f54d0f"
          }
        },
        "24e60b8ed35e4c8b8c2998e7f73cb748": {
          "model_module": "@jupyter-widgets/controls",
          "model_name": "ProgressStyleModel",
          "state": {
            "_view_name": "StyleView",
            "_model_name": "ProgressStyleModel",
            "description_width": "initial",
            "_view_module": "@jupyter-widgets/base",
            "_model_module_version": "1.5.0",
            "_view_count": null,
            "_view_module_version": "1.2.0",
            "bar_color": null,
            "_model_module": "@jupyter-widgets/controls"
          }
        },
        "2b7a9dcfbfe2424c861e8a23de755246": {
          "model_module": "@jupyter-widgets/base",
          "model_name": "LayoutModel",
          "state": {
            "_view_name": "LayoutView",
            "grid_template_rows": null,
            "right": null,
            "justify_content": null,
            "_view_module": "@jupyter-widgets/base",
            "overflow": null,
            "_model_module_version": "1.2.0",
            "_view_count": null,
            "flex_flow": null,
            "width": null,
            "min_width": null,
            "border": null,
            "align_items": null,
            "bottom": null,
            "_model_module": "@jupyter-widgets/base",
            "top": null,
            "grid_column": null,
            "overflow_y": null,
            "overflow_x": null,
            "grid_auto_flow": null,
            "grid_area": null,
            "grid_template_columns": null,
            "flex": null,
            "_model_name": "LayoutModel",
            "justify_items": null,
            "grid_row": null,
            "max_height": null,
            "align_content": null,
            "visibility": null,
            "align_self": null,
            "height": null,
            "min_height": null,
            "padding": null,
            "grid_auto_rows": null,
            "grid_gap": null,
            "max_width": null,
            "order": null,
            "_view_module_version": "1.2.0",
            "grid_template_areas": null,
            "object_position": null,
            "object_fit": null,
            "grid_auto_columns": null,
            "margin": null,
            "display": null,
            "left": null
          }
        },
        "c2eeaadeeb514db293be4deb3aca7d01": {
          "model_module": "@jupyter-widgets/controls",
          "model_name": "DescriptionStyleModel",
          "state": {
            "_view_name": "StyleView",
            "_model_name": "DescriptionStyleModel",
            "description_width": "",
            "_view_module": "@jupyter-widgets/base",
            "_model_module_version": "1.5.0",
            "_view_count": null,
            "_view_module_version": "1.2.0",
            "_model_module": "@jupyter-widgets/controls"
          }
        },
        "05af568b7f3c4f05be22c3a611f54d0f": {
          "model_module": "@jupyter-widgets/base",
          "model_name": "LayoutModel",
          "state": {
            "_view_name": "LayoutView",
            "grid_template_rows": null,
            "right": null,
            "justify_content": null,
            "_view_module": "@jupyter-widgets/base",
            "overflow": null,
            "_model_module_version": "1.2.0",
            "_view_count": null,
            "flex_flow": null,
            "width": null,
            "min_width": null,
            "border": null,
            "align_items": null,
            "bottom": null,
            "_model_module": "@jupyter-widgets/base",
            "top": null,
            "grid_column": null,
            "overflow_y": null,
            "overflow_x": null,
            "grid_auto_flow": null,
            "grid_area": null,
            "grid_template_columns": null,
            "flex": null,
            "_model_name": "LayoutModel",
            "justify_items": null,
            "grid_row": null,
            "max_height": null,
            "align_content": null,
            "visibility": null,
            "align_self": null,
            "height": null,
            "min_height": null,
            "padding": null,
            "grid_auto_rows": null,
            "grid_gap": null,
            "max_width": null,
            "order": null,
            "_view_module_version": "1.2.0",
            "grid_template_areas": null,
            "object_position": null,
            "object_fit": null,
            "grid_auto_columns": null,
            "margin": null,
            "display": null,
            "left": null
          }
        },
        "aa8983398c3148aeb0184309d961c598": {
          "model_module": "@jupyter-widgets/controls",
          "model_name": "HBoxModel",
          "state": {
            "_view_name": "HBoxView",
            "_dom_classes": [],
            "_model_name": "HBoxModel",
            "_view_module": "@jupyter-widgets/controls",
            "_model_module_version": "1.5.0",
            "_view_count": null,
            "_view_module_version": "1.5.0",
            "box_style": "",
            "layout": "IPY_MODEL_15afed1a45104018907259ff48088ddb",
            "_model_module": "@jupyter-widgets/controls",
            "children": [
              "IPY_MODEL_f73702028b984346af62d046dc4a3523",
              "IPY_MODEL_06016fef27354d1dab95f94f133f8357"
            ]
          }
        },
        "15afed1a45104018907259ff48088ddb": {
          "model_module": "@jupyter-widgets/base",
          "model_name": "LayoutModel",
          "state": {
            "_view_name": "LayoutView",
            "grid_template_rows": null,
            "right": null,
            "justify_content": null,
            "_view_module": "@jupyter-widgets/base",
            "overflow": null,
            "_model_module_version": "1.2.0",
            "_view_count": null,
            "flex_flow": null,
            "width": null,
            "min_width": null,
            "border": null,
            "align_items": null,
            "bottom": null,
            "_model_module": "@jupyter-widgets/base",
            "top": null,
            "grid_column": null,
            "overflow_y": null,
            "overflow_x": null,
            "grid_auto_flow": null,
            "grid_area": null,
            "grid_template_columns": null,
            "flex": null,
            "_model_name": "LayoutModel",
            "justify_items": null,
            "grid_row": null,
            "max_height": null,
            "align_content": null,
            "visibility": null,
            "align_self": null,
            "height": null,
            "min_height": null,
            "padding": null,
            "grid_auto_rows": null,
            "grid_gap": null,
            "max_width": null,
            "order": null,
            "_view_module_version": "1.2.0",
            "grid_template_areas": null,
            "object_position": null,
            "object_fit": null,
            "grid_auto_columns": null,
            "margin": null,
            "display": null,
            "left": null
          }
        },
        "f73702028b984346af62d046dc4a3523": {
          "model_module": "@jupyter-widgets/controls",
          "model_name": "FloatProgressModel",
          "state": {
            "_view_name": "ProgressView",
            "style": "IPY_MODEL_b9b284d8194e45b6ab232c7321cf41a6",
            "_dom_classes": [],
            "description": "  0%",
            "_model_name": "FloatProgressModel",
            "bar_style": "info",
            "max": 1,
            "_view_module": "@jupyter-widgets/controls",
            "_model_module_version": "1.5.0",
            "value": 0,
            "_view_count": null,
            "_view_module_version": "1.5.0",
            "orientation": "horizontal",
            "min": 0,
            "description_tooltip": null,
            "_model_module": "@jupyter-widgets/controls",
            "layout": "IPY_MODEL_d45aeb1ba8c846668af950d35a57f6db"
          }
        },
        "06016fef27354d1dab95f94f133f8357": {
          "model_module": "@jupyter-widgets/controls",
          "model_name": "HTMLModel",
          "state": {
            "_view_name": "HTMLView",
            "style": "IPY_MODEL_344374ffacc94d2a9f8d417c526b6a60",
            "_dom_classes": [],
            "description": "",
            "_model_name": "HTMLModel",
            "placeholder": "​",
            "_view_module": "@jupyter-widgets/controls",
            "_model_module_version": "1.5.0",
            "value": " 0/4542 [00:00&lt;?, ?it/s]",
            "_view_count": null,
            "_view_module_version": "1.5.0",
            "description_tooltip": null,
            "_model_module": "@jupyter-widgets/controls",
            "layout": "IPY_MODEL_d278880e34f64fad876a29de7d31ca11"
          }
        },
        "b9b284d8194e45b6ab232c7321cf41a6": {
          "model_module": "@jupyter-widgets/controls",
          "model_name": "ProgressStyleModel",
          "state": {
            "_view_name": "StyleView",
            "_model_name": "ProgressStyleModel",
            "description_width": "initial",
            "_view_module": "@jupyter-widgets/base",
            "_model_module_version": "1.5.0",
            "_view_count": null,
            "_view_module_version": "1.2.0",
            "bar_color": null,
            "_model_module": "@jupyter-widgets/controls"
          }
        },
        "d45aeb1ba8c846668af950d35a57f6db": {
          "model_module": "@jupyter-widgets/base",
          "model_name": "LayoutModel",
          "state": {
            "_view_name": "LayoutView",
            "grid_template_rows": null,
            "right": null,
            "justify_content": null,
            "_view_module": "@jupyter-widgets/base",
            "overflow": null,
            "_model_module_version": "1.2.0",
            "_view_count": null,
            "flex_flow": null,
            "width": null,
            "min_width": null,
            "border": null,
            "align_items": null,
            "bottom": null,
            "_model_module": "@jupyter-widgets/base",
            "top": null,
            "grid_column": null,
            "overflow_y": null,
            "overflow_x": null,
            "grid_auto_flow": null,
            "grid_area": null,
            "grid_template_columns": null,
            "flex": null,
            "_model_name": "LayoutModel",
            "justify_items": null,
            "grid_row": null,
            "max_height": null,
            "align_content": null,
            "visibility": null,
            "align_self": null,
            "height": null,
            "min_height": null,
            "padding": null,
            "grid_auto_rows": null,
            "grid_gap": null,
            "max_width": null,
            "order": null,
            "_view_module_version": "1.2.0",
            "grid_template_areas": null,
            "object_position": null,
            "object_fit": null,
            "grid_auto_columns": null,
            "margin": null,
            "display": null,
            "left": null
          }
        },
        "344374ffacc94d2a9f8d417c526b6a60": {
          "model_module": "@jupyter-widgets/controls",
          "model_name": "DescriptionStyleModel",
          "state": {
            "_view_name": "StyleView",
            "_model_name": "DescriptionStyleModel",
            "description_width": "",
            "_view_module": "@jupyter-widgets/base",
            "_model_module_version": "1.5.0",
            "_view_count": null,
            "_view_module_version": "1.2.0",
            "_model_module": "@jupyter-widgets/controls"
          }
        },
        "d278880e34f64fad876a29de7d31ca11": {
          "model_module": "@jupyter-widgets/base",
          "model_name": "LayoutModel",
          "state": {
            "_view_name": "LayoutView",
            "grid_template_rows": null,
            "right": null,
            "justify_content": null,
            "_view_module": "@jupyter-widgets/base",
            "overflow": null,
            "_model_module_version": "1.2.0",
            "_view_count": null,
            "flex_flow": null,
            "width": null,
            "min_width": null,
            "border": null,
            "align_items": null,
            "bottom": null,
            "_model_module": "@jupyter-widgets/base",
            "top": null,
            "grid_column": null,
            "overflow_y": null,
            "overflow_x": null,
            "grid_auto_flow": null,
            "grid_area": null,
            "grid_template_columns": null,
            "flex": null,
            "_model_name": "LayoutModel",
            "justify_items": null,
            "grid_row": null,
            "max_height": null,
            "align_content": null,
            "visibility": null,
            "align_self": null,
            "height": null,
            "min_height": null,
            "padding": null,
            "grid_auto_rows": null,
            "grid_gap": null,
            "max_width": null,
            "order": null,
            "_view_module_version": "1.2.0",
            "grid_template_areas": null,
            "object_position": null,
            "object_fit": null,
            "grid_auto_columns": null,
            "margin": null,
            "display": null,
            "left": null
          }
        }
      }
    }
  },
  "cells": [
    {
      "cell_type": "code",
      "metadata": {
        "id": "k5oY90BDFXEW",
        "colab_type": "code",
        "colab": {
          "base_uri": "https://localhost:8080/",
          "height": 53
        },
        "outputId": "823a6304-1325-445b-e162-5d3233481d36"
      },
      "source": [
        "import math\n",
        "import numpy as np\n",
        "import matplotlib\n",
        "import matplotlib.pyplot as plt\n",
        "import seaborn as sns\n",
        "\n",
        "import torch\n",
        "from torch import tensor\n",
        "from torch import nn\n",
        "from torch.nn import functional as F\n",
        "from torch.autograd import Variable"
      ],
      "execution_count": 2,
      "outputs": [
        {
          "output_type": "stream",
          "text": [
            "/usr/local/lib/python3.6/dist-packages/statsmodels/tools/_testing.py:19: FutureWarning: pandas.util.testing is deprecated. Use the functions in the public API at pandas.testing instead.\n",
            "  import pandas.util.testing as tm\n"
          ],
          "name": "stderr"
        }
      ]
    },
    {
      "cell_type": "code",
      "metadata": {
        "id": "lqdedHzNKZQy",
        "colab_type": "code",
        "colab": {}
      },
      "source": [
        "#Euler's ODE initial value solver\n",
        "def ode_solver(z0,t0,t1,f):\n",
        "  h_max=0.05\n",
        "  n_steps=math.ceil((abs(t1-t0)/h_max).max().item())\n",
        "  h=(t1-t0)/n_steps\n",
        "  t=t0\n",
        "  z=z0\n",
        "  \n",
        "  for i_step in range(n_steps):\n",
        "    z=z+h*f(z,t)\n",
        "    t=t+h\n",
        "  \n",
        "  return z"
      ],
      "execution_count": null,
      "outputs": []
    },
    {
      "cell_type": "code",
      "metadata": {
        "id": "WoQ3X0oGLDfY",
        "colab_type": "code",
        "colab": {}
      },
      "source": [
        "#parametrized dynamics functions\n",
        "#   flatten all dependent functions\n",
        "#   compute aug. dynamics (depends on gradient of function wrt inputs and params)\n",
        "\n",
        "class ODEF(nn.Module):\n",
        "  def flatten_parameters(self):\n",
        "    p_shapes=[]\n",
        "    flat_params=[]\n",
        "    for p in self.parameters():\n",
        "      p_shapes.append(p.size())\n",
        "      flat_params.append(p.flatten())\n",
        "    \n",
        "    return torch.cat(flat_params)\n",
        "\n",
        "  def augmented_dynamics_util(self,z,t,grad_outputs):\n",
        "    batch_size=z.shape[0]\n",
        "    out=self.forward(z,t) #def below in encapsulated fn ##forward pass output\n",
        "    a=grad_outputs\n",
        "    adfdz,adfdt,*adfdp=torch.autograd.grad(\n",
        "        (out,),(z,t)+tuple(self.parameters()),grad_outputs=(a),\n",
        "        allow_unused=True,retain_graph=True\n",
        "    )\n",
        "    '''\n",
        "    adfdz==a[df/dz]\n",
        "    adfdt==s[df/dt]\n",
        "    *adfdp=a[df/dp] #* unpacks the list into position values\n",
        "    '''\n",
        "\n",
        "    if adfdp is not None:\n",
        "      adfdp=torch.cat([grad.flatten() for grad in adfdp]).unsqueeze(0)\n",
        "      adfdp=adfdp.expand(batch_size-1)/batch_size\n",
        "\n",
        "    if adfdt is not None:\n",
        "      adfdt=adfdt.expand(batch_size-1)/batch_size\n",
        "    \n",
        "    return out,adfdz,adfdt,adfdp"
      ],
      "execution_count": null,
      "outputs": []
    },
    {
      "cell_type": "code",
      "metadata": {
        "id": "vD9XKEdiPcGm",
        "colab_type": "code",
        "colab": {}
      },
      "source": [
        "#forward and backward pass of Neural ODE (NODE) \n",
        "#wrapped in a class\n",
        "class ODEAdjoint(torch.autograd.Function):\n",
        "  @staticmethod\n",
        "  def forward(ctx,z0,t,flat_params,func):\n",
        "    assert isinstance(func, ODEF)\n",
        "    bs, *z_shape=z0.size()\n",
        "    time_len=t.size(0)\n",
        "\n",
        "    with torch.no_grad():\n",
        "      z=torch.zeros(time_len,bs,*z_shape).to(z0)\n",
        "      z[0]=z0\n",
        "      for i_t in range(time_len-1):\n",
        "        z0=ode_solver(z0,t[i_t],t[i_t+1],func)\n",
        "        z[i_t+1]=z0\n",
        "    ctx.func=func\n",
        "    ctx.save_for_backward(t,z.clone(),flat_parameters)\n",
        "    \n",
        "    return z\n",
        "\n",
        "  @staticmethod\n",
        "  def backward(ctx,dLdz):\n",
        "    func=ctx.func\n",
        "    t,z,flat_parameters=ctx.saved_tensors\n",
        "    time_len,bs,*z_shape=z.size()\n",
        "    n_dim=np.prod(z_shape)\n",
        "    n_params=flat_parameters.size(0)\n",
        "\n",
        "    #aug dynamics to be calc backwards wrt time\n",
        "    def augmented_dynamics(aug_z_i,t_i):\n",
        "      '''\n",
        "      tensors here are defined as temporal slices\n",
        "      t_i is a tensor with size (bs,l)\n",
        "      aug_z_i is a tensor with size (bs,n_dims*2+n_params+1)\n",
        "      '''\n",
        "      z_i,a=aug_z_i[:,:n_dim],aug_z_i[:,n_dim:2*n_dim]\n",
        "      z_i=z_i.view(bs,*z_shape)\n",
        "      a=a.view(bs,*z_shape)\n",
        "      with torch.set_grad_enabled(True):\n",
        "        t_i=t_i.detach().requires_grad_(True)\n",
        "        z_i=z_i.detach().requires_grad_(True)\n",
        "        func_eval,adfdz,adfdt,adfdp=func.forward_with_grad(z_i,t_i,grad_outputs=a)\n",
        "        adfdz=adfdz.to(z_i) if adfdz is not None else torch.zeros(bs,*z_shape).to(z_i)\n",
        "        adfdp=adfdp.to(z_i) if adfdz is not None else torch.zeros(bs,n_params).to(z_i)\n",
        "        adfdt=adfdt.to(z_i) if adfdz is not None else torch.zeros(bs,1).to(z_i)\n",
        "        \n",
        "      func_eval=func_eval.view(bs,n_dim)\n",
        "      adfdz=adfdz.view(bs,n_dim)\n",
        "      \n",
        "      return torch.cat((func_eval,-adfdz,-adfdp,-adfdt),dim=1)\n",
        "\n",
        "    dLdz=dLdz.view(time_len,bs,n_dim)\n",
        "    #create placeholders for output gradients\n",
        "    with torch.no_grad():\n",
        "      adj_z=torch.zeros(bs,n_dim).to(dLdz)\n",
        "      adj_p=torch.zeros(bs,n_params).to(dLdz)\n",
        "      adj_t=torch.zeros(time_len,bs,1).to(dLdz) #gradients for all times\n",
        "\n",
        "      for i_t in range(time_len-1,0,-1):\n",
        "        z_i=z[i_t]\n",
        "        t_i=t[i_t]\n",
        "        f_i=func(z_i,t_i).view(bs,n_dim)\n",
        "\n",
        "        #direct gradients\n",
        "        dLdz_i=dLdz[i_t]\n",
        "        dLdt_i=torch.bmm(torch.transpose(dLdz_i.unsqueeze(-1),1,2),f_i.unsqueeze(-1))[:,0]\n",
        "\n",
        "        adj_z+=dLdz_i\n",
        "        adj_t[i_t]=adj_t[i_t]-dLdt_i\n",
        "        aug_z=torch.cat((z_i.view(bs,n_dim),adj_z,torch.zeros(bs,n_params).to(z),adj_t[i_t]),dim=-1)\n",
        "        aug_ans=ode_solver(aug_z,t_i,t[i_t-1],augmented_dynamics)\n",
        "\n",
        "        #unpack\n",
        "        adj_z[:]=aug_ans[:,n_dim:2*n_dim]\n",
        "        adj_p[:]=aug_ans[:,2*n_dim:2*n_dim+n_params]\n",
        "        adj_t[i_t-1]=aug_ans[:,2*n_dim+n_params:]\n",
        "\n",
        "        del aug_z,aug_ans\n",
        "\n",
        "      dLdz_0=dLdz[0]\n",
        "      dLdt_0=torch.bmm(torch.transpose(dLdz_0.unsqueeze(-1),1,2),f_i.unsqueeze(-1))[:,0]\n",
        "\n",
        "      adj_z+=dLdz_0\n",
        "      adj_t[0]=adj_t[0]-dLdt_0\n",
        "\n",
        "    return adj_z.view(bs,*z_shape),adj_t,adj_p,None"
      ],
      "execution_count": 3,
      "outputs": []
    },
    {
      "cell_type": "code",
      "metadata": {
        "id": "Eia1PR7uVeTq",
        "colab_type": "code",
        "colab": {}
      },
      "source": [
        "#wrapper class\n",
        "class NeuralODE(nn.Module):\n",
        "  def __init__(self,func):\n",
        "    super(NeuralODE,self).__init__()\n",
        "    assert isinstance(func,ODEF)\n",
        "    self.func=func\n",
        "\n",
        "  def forward(self,z0,t=tensor([0.,1.]),return_whole_sequence=False):\n",
        "    t=t.to(z0)\n",
        "    z=ODEAdjoint.apply(z0,t,self.func.flatten_params(),self.func)\n",
        "    if return_whole_sequence:\n",
        "      return z\n",
        "    else:\n",
        "      return z[-1]"
      ],
      "execution_count": 5,
      "outputs": []
    },
    {
      "cell_type": "markdown",
      "metadata": {
        "id": "HRtdOoxMWogw",
        "colab_type": "text"
      },
      "source": [
        "Using the author's code <br>\n",
        "Can be found here : https://github.com/rtqichen/torchdiffeq"
      ]
    },
    {
      "cell_type": "code",
      "metadata": {
        "id": "KJOPU661WOiW",
        "colab_type": "code",
        "colab": {
          "base_uri": "https://localhost:8080/",
          "height": 269
        },
        "outputId": "ba4d9108-9eac-41df-b3fb-14b0f5f182a6"
      },
      "source": [
        "!git clone https://github.com/rtqichen/torchdiffeq.git\n",
        "!pip install -e /content/torchdiffeq"
      ],
      "execution_count": 6,
      "outputs": [
        {
          "output_type": "stream",
          "text": [
            "Cloning into 'torchdiffeq'...\n",
            "remote: Enumerating objects: 74, done.\u001b[K\n",
            "remote: Counting objects:   1% (1/74)\u001b[K\rremote: Counting objects:   2% (2/74)\u001b[K\rremote: Counting objects:   4% (3/74)\u001b[K\rremote: Counting objects:   5% (4/74)\u001b[K\rremote: Counting objects:   6% (5/74)\u001b[K\rremote: Counting objects:   8% (6/74)\u001b[K\rremote: Counting objects:   9% (7/74)\u001b[K\rremote: Counting objects:  10% (8/74)\u001b[K\rremote: Counting objects:  12% (9/74)\u001b[K\rremote: Counting objects:  13% (10/74)\u001b[K\rremote: Counting objects:  14% (11/74)\u001b[K\rremote: Counting objects:  16% (12/74)\u001b[K\rremote: Counting objects:  17% (13/74)\u001b[K\rremote: Counting objects:  18% (14/74)\u001b[K\rremote: Counting objects:  20% (15/74)\u001b[K\rremote: Counting objects:  21% (16/74)\u001b[K\rremote: Counting objects:  22% (17/74)\u001b[K\rremote: Counting objects:  24% (18/74)\u001b[K\rremote: Counting objects:  25% (19/74)\u001b[K\rremote: Counting objects:  27% (20/74)\u001b[K\rremote: Counting objects:  28% (21/74)\u001b[K\rremote: Counting objects:  29% (22/74)\u001b[K\rremote: Counting objects:  31% (23/74)\u001b[K\rremote: Counting objects:  32% (24/74)\u001b[K\rremote: Counting objects:  33% (25/74)\u001b[K\rremote: Counting objects:  35% (26/74)\u001b[K\rremote: Counting objects:  36% (27/74)\u001b[K\rremote: Counting objects:  37% (28/74)\u001b[K\rremote: Counting objects:  39% (29/74)\u001b[K\rremote: Counting objects:  40% (30/74)\u001b[K\rremote: Counting objects:  41% (31/74)\u001b[K\rremote: Counting objects:  43% (32/74)\u001b[K\rremote: Counting objects:  44% (33/74)\u001b[K\rremote: Counting objects:  45% (34/74)\u001b[K\rremote: Counting objects:  47% (35/74)\u001b[K\rremote: Counting objects:  48% (36/74)\u001b[K\rremote: Counting objects:  50% (37/74)\u001b[K\rremote: Counting objects:  51% (38/74)\u001b[K\rremote: Counting objects:  52% (39/74)\u001b[K\rremote: Counting objects:  54% (40/74)\u001b[K\rremote: Counting objects:  55% (41/74)\u001b[K\rremote: Counting objects:  56% (42/74)\u001b[K\rremote: Counting objects:  58% (43/74)\u001b[K\rremote: Counting objects:  59% (44/74)\u001b[K\rremote: Counting objects:  60% (45/74)\u001b[K\rremote: Counting objects:  62% (46/74)\u001b[K\rremote: Counting objects:  63% (47/74)\u001b[K\rremote: Counting objects:  64% (48/74)\u001b[K\rremote: Counting objects:  66% (49/74)\u001b[K\rremote: Counting objects:  67% (50/74)\u001b[K\rremote: Counting objects:  68% (51/74)\u001b[K\rremote: Counting objects:  70% (52/74)\u001b[K\rremote: Counting objects:  71% (53/74)\u001b[K\rremote: Counting objects:  72% (54/74)\u001b[K\rremote: Counting objects:  74% (55/74)\u001b[K\rremote: Counting objects:  75% (56/74)\u001b[K\rremote: Counting objects:  77% (57/74)\u001b[K\rremote: Counting objects:  78% (58/74)\u001b[K\rremote: Counting objects:  79% (59/74)\u001b[K\rremote: Counting objects:  81% (60/74)\u001b[K\rremote: Counting objects:  82% (61/74)\u001b[K\rremote: Counting objects:  83% (62/74)\u001b[K\rremote: Counting objects:  85% (63/74)\u001b[K\rremote: Counting objects:  86% (64/74)\u001b[K\rremote: Counting objects:  87% (65/74)\u001b[K\rremote: Counting objects:  89% (66/74)\u001b[K\rremote: Counting objects:  90% (67/74)\u001b[K\rremote: Counting objects:  91% (68/74)\u001b[K\rremote: Counting objects:  93% (69/74)\u001b[K\rremote: Counting objects:  94% (70/74)\u001b[K\rremote: Counting objects:  95% (71/74)\u001b[K\rremote: Counting objects:  97% (72/74)\u001b[K\rremote: Counting objects:  98% (73/74)\u001b[K\rremote: Counting objects: 100% (74/74)\u001b[K\rremote: Counting objects: 100% (74/74), done.\u001b[K\n",
            "remote: Compressing objects: 100% (55/55), done.\u001b[K\n",
            "remote: Total 303 (delta 30), reused 43 (delta 18), pack-reused 229\u001b[K\n",
            "Receiving objects: 100% (303/303), 8.09 MiB | 1.56 MiB/s, done.\n",
            "Resolving deltas: 100% (137/137), done.\n",
            "Obtaining file:///content/torchdiffeq\n",
            "Requirement already satisfied: torch>=0.4.1 in /usr/local/lib/python3.6/dist-packages (from torchdiffeq==0.0.1) (1.5.1+cu101)\n",
            "Requirement already satisfied: numpy in /usr/local/lib/python3.6/dist-packages (from torch>=0.4.1->torchdiffeq==0.0.1) (1.18.5)\n",
            "Requirement already satisfied: future in /usr/local/lib/python3.6/dist-packages (from torch>=0.4.1->torchdiffeq==0.0.1) (0.16.0)\n",
            "Installing collected packages: torchdiffeq\n",
            "  Running setup.py develop for torchdiffeq\n",
            "Successfully installed torchdiffeq\n"
          ],
          "name": "stdout"
        }
      ]
    },
    {
      "cell_type": "code",
      "metadata": {
        "id": "mxTKX6uIW6_1",
        "colab_type": "code",
        "colab": {}
      },
      "source": [
        "import numpy as np\n",
        "import matplotlib.pyplot as plt\n",
        "import time\n",
        "\n",
        "import torch\n",
        "import torch.nn as nn\n",
        "import torch.nn.functional as F\n",
        "import torch.optim as optim\n",
        "\n",
        "#author's lib\n",
        "#NOTE: Restart notebook/kernel to avoid ImportError for odeint\n",
        "from torchdiffeq import odeint, odeint_adjoint"
      ],
      "execution_count": 12,
      "outputs": []
    },
    {
      "cell_type": "code",
      "metadata": {
        "id": "yHmz1_yhY_tv",
        "colab_type": "code",
        "colab": {
          "base_uri": "https://localhost:8080/",
          "height": 89
        },
        "outputId": "371b4776-6632-4799-bcda-61e5131c3402"
      },
      "source": [
        "help(odeint_adjoint)"
      ],
      "execution_count": 5,
      "outputs": [
        {
          "output_type": "stream",
          "text": [
            "Help on function odeint_adjoint in module torchdiffeq._impl.adjoint:\n",
            "\n",
            "odeint_adjoint(func, y0, t, rtol=1e-06, atol=1e-12, method=None, options=None, adjoint_rtol=None, adjoint_atol=None, adjoint_method=None, adjoint_options=None)\n",
            "\n"
          ],
          "name": "stdout"
        }
      ]
    },
    {
      "cell_type": "code",
      "metadata": {
        "id": "r07UEOpMXS4u",
        "colab_type": "code",
        "colab": {
          "base_uri": "https://localhost:8080/",
          "height": 301
        },
        "outputId": "50299227-2e64-4fdb-9f6d-8dbfe2b3989c"
      },
      "source": [
        "t=np.linspace(0,4*np.pi,num=50)\n",
        "tt=torch.from_numpy(t).float()\n",
        "\n",
        "z0=torch.tensor([0]).float() #initial value\n",
        "fn=lambda t,z:torch.cos(t)\n",
        "print(callable(fn))\n",
        "\n",
        "euler=odeint(fn,z0,tt,method='euler').squeeze().numpy()\n",
        "midpoint=odeint(fn,z0,tt,method='midpoint').squeeze().numpy()\n",
        "rk=odeint(fn,z0,tt).squeeze().numpy() #default method: Runge-Kutta\n",
        "\n",
        "plt.plot(t,rk,'r*-',label='ode-rk')\n",
        "plt.plot(t,euler,'b+-',label='ode-euler')\n",
        "plt.plot(t,midpoint,'g+-',label='midpoint')\n",
        "plt.plot(t,np.sin(t),'k-',label='ground truth')\n",
        "plt.legend(loc='best')"
      ],
      "execution_count": 4,
      "outputs": [
        {
          "output_type": "stream",
          "text": [
            "True\n"
          ],
          "name": "stdout"
        },
        {
          "output_type": "execute_result",
          "data": {
            "text/plain": [
              "<matplotlib.legend.Legend at 0x7f6779602080>"
            ]
          },
          "metadata": {
            "tags": []
          },
          "execution_count": 4
        },
        {
          "output_type": "display_data",
          "data": {
            "image/png": "[encoded data removed]",
            "text/plain": [
              "<Figure size 432x288 with 1 Axes>"
            ]
          },
          "metadata": {
            "tags": [],
            "needs_background": "light"
          }
        }
      ]
    },
    {
      "cell_type": "code",
      "metadata": {
        "id": "_u7ncEDCYxld",
        "colab_type": "code",
        "colab": {
          "base_uri": "https://localhost:8080/",
          "height": 319
        },
        "outputId": "f84abeee-dac9-4f44-a110-597ef3d0728a"
      },
      "source": [
        "y0=torch.tensor([[0],[1]]).float()\n",
        "print(y0.shape)\n",
        "values=odeint(fn,torch.tensor([[0],[1]]).float(),tt).squeeze().numpy()\n",
        "print(values.shape)\n",
        "\n",
        "plt.plot(t,values[:,0])\n",
        "plt.plot(t,values[:,1])"
      ],
      "execution_count": 6,
      "outputs": [
        {
          "output_type": "stream",
          "text": [
            "torch.Size([2, 1])\n",
            "(50, 2)\n"
          ],
          "name": "stdout"
        },
        {
          "output_type": "execute_result",
          "data": {
            "text/plain": [
              "[<matplotlib.lines.Line2D at 0x7f677913ee10>]"
            ]
          },
          "metadata": {
            "tags": []
          },
          "execution_count": 6
        },
        {
          "output_type": "display_data",
          "data": {
            "image/png": "[encoded data removed]",
            "text/plain": [
              "<Figure size 432x288 with 1 Axes>"
            ]
          },
          "metadata": {
            "tags": [],
            "needs_background": "light"
          }
        }
      ]
    },
    {
      "cell_type": "code",
      "metadata": {
        "id": "ol_lqPdOZn0q",
        "colab_type": "code",
        "colab": {}
      },
      "source": [
        "#https://pytorch.org/docs/stable/_modules/torchvision/models/resnet.html#resnet18\n",
        "from torchvision.models.resnet import ResNet, BasicBlock\n",
        "\n",
        "class MnistResNet18(ResNet):\n",
        "    def __init__(self):\n",
        "        super(MnistResNet18,self).__init__(BasicBlock,[2,2,2,2],num_classes=10)\n",
        "        #replace first conv layer to accept single-channel image\n",
        "        self.conv1=nn.Conv2d(1,64,kernel_size=7,stride=2,padding=3,bias=False)\n",
        "        \n",
        "    def forward(self, x):\n",
        "        return F.softmax(super(MnistResNet18, self).forward(x),dim=-1)"
      ],
      "execution_count": 7,
      "outputs": []
    },
    {
      "cell_type": "code",
      "metadata": {
        "id": "kGX_DtSfZ18H",
        "colab_type": "code",
        "colab": {}
      },
      "source": [
        "from torchvision.datasets import MNIST\n",
        "from torchvision.transforms import Compose,ToTensor,Normalize,Resize\n",
        "from torch.utils.data import DataLoader\n",
        "from sklearn.metrics import precision_score,recall_score,f1_score,accuracy_score\n",
        "import inspect"
      ],
      "execution_count": 8,
      "outputs": []
    },
    {
      "cell_type": "code",
      "metadata": {
        "id": "3oznZpDKZ8Qf",
        "colab_type": "code",
        "colab": {
          "base_uri": "https://localhost:8080/",
          "height": 381,
          "referenced_widgets": [
            "c38eea6872864143a62ae66a919a1460",
            "5a443473a7ce492db22a25905be59ace",
            "aa49b61891fb4a2aa40521a40f7fd0b0",
            "5afacd6dab8f48dda497b84827aee577",
            "8784250d6a78404dacf149e347222624",
            "7e46d6a7f3d3436abc15c158d92e6e61",
            "7d003eb3d0eb4712b6a901aa505124b5",
            "e7b54baf288649568c1b59c4ce4eae2f",
            "711130ec55324f9086654d006922edcb",
            "f2f4761d4f2d4ae5ab7880811d3b1de8",
            "4ab49f9310b549b2998dcb7cfe2d685f",
            "a19cfd6d883244248594f2d0a4cbfde4",
            "21b039b7f66549609de3a32397d5612d",
            "275340d2a2ff41c29172e620c47d57b6",
            "8a973c32fcb94d83ae02e372b015b5d0",
            "7ddfe958bfeb4e25af4dc0c5b6f1e21a",
            "b89a15b081664a1db88f23b71654ebd3",
            "c91aa6e97a9440859829a38c39e95d74",
            "716f5afc2a8a411b9d2726d8540153e7",
            "b7eb156e99ad44b1a71a5c5c7348c73f",
            "24e60b8ed35e4c8b8c2998e7f73cb748",
            "2b7a9dcfbfe2424c861e8a23de755246",
            "c2eeaadeeb514db293be4deb3aca7d01",
            "05af568b7f3c4f05be22c3a611f54d0f",
            "aa8983398c3148aeb0184309d961c598",
            "15afed1a45104018907259ff48088ddb",
            "f73702028b984346af62d046dc4a3523",
            "06016fef27354d1dab95f94f133f8357",
            "b9b284d8194e45b6ab232c7321cf41a6",
            "d45aeb1ba8c846668af950d35a57f6db",
            "344374ffacc94d2a9f8d417c526b6a60",
            "d278880e34f64fad876a29de7d31ca11"
          ]
        },
        "outputId": "5e57a9bd-fa48-419f-ffb3-19fdc72c258c"
      },
      "source": [
        "mnist=MNIST(root='.',train=True,download=True)\n",
        "#normalization for MNIST in Pytorch: https://discuss.pytorch.org/t/normalization-in-the-mnist-example/45"
      ],
      "execution_count": 9,
      "outputs": [
        {
          "output_type": "stream",
          "text": [
            "Downloading http://yann.lecun.com/exdb/mnist/train-images-idx3-ubyte.gz to ./MNIST/raw/train-images-idx3-ubyte.gz\n"
          ],
          "name": "stdout"
        },
        {
          "output_type": "display_data",
          "data": {
            "application/vnd.jupyter.widget-view+json": {
              "model_id": "c38eea6872864143a62ae66a919a1460",
              "version_minor": 0,
              "version_major": 2
            },
            "text/plain": [
              "HBox(children=(FloatProgress(value=1.0, bar_style='info', max=1.0), HTML(value='')))"
            ]
          },
          "metadata": {
            "tags": []
          }
        },
        {
          "output_type": "stream",
          "text": [
            "Extracting ./MNIST/raw/train-images-idx3-ubyte.gz to ./MNIST/raw\n",
            "\n",
            "Downloading http://yann.lecun.com/exdb/mnist/train-labels-idx1-ubyte.gz to ./MNIST/raw/train-labels-idx1-ubyte.gz\n"
          ],
          "name": "stdout"
        },
        {
          "output_type": "display_data",
          "data": {
            "application/vnd.jupyter.widget-view+json": {
              "model_id": "711130ec55324f9086654d006922edcb",
              "version_minor": 0,
              "version_major": 2
            },
            "text/plain": [
              "HBox(children=(FloatProgress(value=1.0, bar_style='info', max=1.0), HTML(value='')))"
            ]
          },
          "metadata": {
            "tags": []
          }
        },
        {
          "output_type": "stream",
          "text": [
            "Extracting ./MNIST/raw/train-labels-idx1-ubyte.gz to ./MNIST/raw\n",
            "Downloading http://yann.lecun.com/exdb/mnist/t10k-images-idx3-ubyte.gz to ./MNIST/raw/t10k-images-idx3-ubyte.gz\n"
          ],
          "name": "stdout"
        },
        {
          "output_type": "display_data",
          "data": {
            "application/vnd.jupyter.widget-view+json": {
              "model_id": "b89a15b081664a1db88f23b71654ebd3",
              "version_minor": 0,
              "version_major": 2
            },
            "text/plain": [
              "HBox(children=(FloatProgress(value=1.0, bar_style='info', max=1.0), HTML(value='')))"
            ]
          },
          "metadata": {
            "tags": []
          }
        },
        {
          "output_type": "stream",
          "text": [
            "Extracting ./MNIST/raw/t10k-images-idx3-ubyte.gz to ./MNIST/raw\n",
            "Downloading http://yann.lecun.com/exdb/mnist/t10k-labels-idx1-ubyte.gz to ./MNIST/raw/t10k-labels-idx1-ubyte.gz\n"
          ],
          "name": "stdout"
        },
        {
          "output_type": "display_data",
          "data": {
            "application/vnd.jupyter.widget-view+json": {
              "model_id": "aa8983398c3148aeb0184309d961c598",
              "version_minor": 0,
              "version_major": 2
            },
            "text/plain": [
              "HBox(children=(FloatProgress(value=1.0, bar_style='info', max=1.0), HTML(value='')))"
            ]
          },
          "metadata": {
            "tags": []
          }
        },
        {
          "output_type": "stream",
          "text": [
            "Extracting ./MNIST/raw/t10k-labels-idx1-ubyte.gz to ./MNIST/raw\n",
            "Processing...\n",
            "Done!\n"
          ],
          "name": "stdout"
        },
        {
          "output_type": "stream",
          "text": [
            "/pytorch/torch/csrc/utils/tensor_numpy.cpp:141: UserWarning: The given NumPy array is not writeable, and PyTorch does not support non-writeable tensors. This means you can write to the underlying (supposedly non-writeable) NumPy array using the tensor. You may want to copy the array to protect its data or make it writeable before converting it to a tensor. This type of warning will be suppressed for the rest of this program.\n"
          ],
          "name": "stderr"
        }
      ]
    },
    {
      "cell_type": "code",
      "metadata": {
        "id": "WLN-7066aLGm",
        "colab_type": "code",
        "colab": {}
      },
      "source": [
        "train_bs=64\n",
        "test_bs=64\n",
        "transform=Compose([Resize((224,224)),ToTensor(),Normalize((0.01307,),(0.3081,))])\n",
        "train_ds=MNIST(root='.',train=True,download=True,transform=transform)\n",
        "train_loader=DataLoader(train_ds,batch_size=train_bs,shuffle=True,num_workers=4)\n",
        "test_ds=MNIST(root='.',train=False,download=True,transform=transform)\n",
        "test_loader=DataLoader(test_ds,batch_size=test_bs,shuffle=True,num_workers=4)"
      ],
      "execution_count": 10,
      "outputs": []
    },
    {
      "cell_type": "code",
      "metadata": {
        "id": "LXplDrp5bMS-",
        "colab_type": "code",
        "colab": {}
      },
      "source": [
        "n_epochs=2\n",
        "lr=0.001\n",
        "loss_fn=nn.CrossEntropyLoss()\n",
        "model=MnistResNet18()\n",
        "optimizer=optim.Adam(model.parameters(),lr=0.001)"
      ],
      "execution_count": 11,
      "outputs": []
    },
    {
      "cell_type": "code",
      "metadata": {
        "id": "Vb_QEFMgbgoL",
        "colab_type": "code",
        "colab": {
          "base_uri": "https://localhost:8080/",
          "height": 514
        },
        "outputId": "84eab99d-c2b7-439a-a689-06d6213e2e2e"
      },
      "source": [
        "\n",
        "start_ts=time.time()\n",
        "\n",
        "for epoch in range(n_epochs):\n",
        "  train_losses=[]\n",
        "  model.train()\n",
        "  for batch in train_loader:\n",
        "    bx,by=batch[0],batch[1]\n",
        "    \n",
        "    model.zero_grad()\n",
        "    pred_logits=model(bx)\n",
        "    loss=loss_fn(pred_logits,by)\n",
        "    train_losses.append(loss.item())\n",
        "    #backprop\n",
        "    loss.backward()\n",
        "    optimizer.step()\n",
        "\n",
        "  test_losses=[]\n",
        "  test_acc=[]\n",
        "  #eval on test data, no backprop\n",
        "  model.eval()\n",
        "  with torch.no_grad():\n",
        "    for batch in test_loader:\n",
        "      bx,by=batch[0],batch[1]\n",
        "      pred_logits=model(bx)\n",
        "      loss=loss_fn(pred_logits,by)\n",
        "      test_losses.append(loss.item())\n",
        "\n",
        "      pred_by=torch.argmax(pred_logits,1)\n",
        "      test_acc.append(accuracy_score(by,cpu(),pred_by.cpu()))\n",
        "\n",
        "  fig,ax=plt.subplots(1,3,figsize=(10,3))\n",
        "  ax[0].plot(train_losses,label='Epoch {}: Train Loss'.format(epoch+1))\n",
        "  ax[0].set_xlabel('Batch')\n",
        "  ax[0].set_ylabel('Loss')\n",
        "\n",
        "  ax[1].plot(train_losses,label='Epoch {}: Test Loss'.format(epoch+1))\n",
        "  ax[1].set_xlabel('Batch')\n",
        "  ax[1].set_ylabel('Loss')\n",
        "\n",
        "  ax[2].plot(test_acc,label='Epoch {}: Test Accuracy'.format(epoch+1))\n",
        "  ax[2].xlabel('Batch')\n",
        "  ax[2].ylabel('Accuracy')\n",
        "\n",
        "print(f\"Time: {time.time()-start_ts}s\")\n"
      ],
      "execution_count": 17,
      "outputs": [
        {
          "output_type": "display_data",
          "data": {
            "image/png": "[encoded data removed]",
            "text/plain": [
              "<PIL.Image.Image image mode=RGB size=719x497 at 0x7F676C76ECF8>"
            ]
          },
          "metadata": {
            "tags": []
          }
        }
      ]
    },
    {
      "cell_type": "code",
      "metadata": {
        "id": "aD1AkzJIeGeM",
        "colab_type": "code",
        "colab": {}
      },
      "source": [
        ""
      ],
      "execution_count": null,
      "outputs": []
    }
  ]
}